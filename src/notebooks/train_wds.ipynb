{
 "cells": [
  {
   "cell_type": "code",
   "execution_count": 4,
   "metadata": {},
   "outputs": [],
   "source": [
    "import os, random, math\n",
    "import matplotlib.pyplot as plt\n",
    "import seaborn as sns\n",
    "import numpy as np\n",
    "import pandas as pd\n",
    "from sklearn import metrics\n",
    "\n",
    "import torch\n",
    "import torch.nn as nn\n",
    "import torch.optim as optim\n",
    "import torch.nn.functional as F\n",
    "import torchvision\n",
    "import torchvision.transforms as transforms\n",
    "import torchvision.models as models\n",
    "import albumentations as A\n",
    "import webdataset as wds\n",
    "\n",
    "\n",
    "import csv\n",
    "import os\n",
    "from PIL import Image\n",
    "import torch\n",
    "from torch.utils.data import Dataset"
   ]
  },
  {
   "cell_type": "code",
   "execution_count": 2,
   "metadata": {},
   "outputs": [
    {
     "name": "stdout",
     "output_type": "stream",
     "text": [
      "Found device: cuda:0\n"
     ]
    }
   ],
   "source": [
    "def seed_everything(seed):\n",
    "    random.seed(seed)\n",
    "    os.environ[\"PYTHONHASHSEED\"] = str(seed)\n",
    "    np.random.seed(seed)\n",
    "    torch.manual_seed(seed)\n",
    "    torch.cuda.manual_seed(seed)\n",
    "    torch.cuda.manual_seed_all(seed)\n",
    "    torch.backends.cudnn.deterministic = True\n",
    "\n",
    "seed_everything(42)\n",
    "\n",
    "device = torch.device(\"cuda:0\" if torch.cuda.is_available() else \"cpu\")\n",
    "print(f\"Found device: {device}\")\n",
    "batch_size = 32"
   ]
  },
  {
   "cell_type": "code",
   "execution_count": 87,
   "metadata": {},
   "outputs": [],
   "source": [
    "def save_model(model_state, model_name, suffix, path=\".\"):\n",
    "    model_path = os.path.join(path, f\"{model_name}_{suffix}.pth\")\n",
    "    torch.save(model_state.state_dict(), model_path)\n",
    "\n",
    "\n",
    "def train(\n",
    "    model, \n",
    "    trainloader, \n",
    "    validloader, \n",
    "    optimizer, \n",
    "    n_epochs, \n",
    "    n_iters, \n",
    "    model_name, \n",
    "    verbose=False\n",
    "):\n",
    "    model.train()\n",
    "    criterion = nn.CrossEntropyLoss()\n",
    "    global_iter = 0\n",
    "    for epoch in range(n_epochs):  # loop over the dataset multiple times\n",
    "        print(f\"Epoch #: {epoch}\")\n",
    "        running_loss = 0.0\n",
    "        for i, batch in enumerate(trainloader, 0):\n",
    "            global_iter += 1\n",
    "            if global_iter == n_iters:\n",
    "                acc = eval_acc(validloader, model, verbose=True)\n",
    "                save_model(model, model_name=model_name, suffix=f\"ep_last\")\n",
    "                return model, acc\n",
    "            # get the inputs; data is a list of [inputs, labels]\n",
    "            images = batch[0].to(device)\n",
    "            meta = batch[1]\n",
    "            labels = torch.tensor([float(x) for x in meta[\"Pneumonia\"]]).to(device)\n",
    "\n",
    "            # zero the parameter gradients\n",
    "            optimizer.zero_grad()\n",
    "\n",
    "            # forward + backward + optimize\n",
    "            outputs, _ = model(images)\n",
    "            loss = criterion(outputs, labels.long() + 1) # account for -1 in label\n",
    "            loss.backward()\n",
    "            optimizer.step()\n",
    "\n",
    "            # print statistics\n",
    "            running_loss += loss.item()\n",
    "            if i % 500 == 499:    # print every 500 mini-batches\n",
    "                print('[%d, %5d] loss: %.3f' %\n",
    "                    (epoch + 1, i + 1, running_loss / 500))\n",
    "                running_loss = 0.0\n",
    "        acc = eval_acc(validloader, model, verbose=verbose)\n",
    "        # save_model(model, model_name=model_name, suffix=f\"ep_{epoch}\")\n",
    "\n",
    "    print('Finished Training')\n",
    "    return model, acc   \n",
    "\n",
    "\n",
    "def eval_acc(testloader, model, verbose=False):\n",
    "    model.eval()\n",
    "    y_trues, y_preds = [], []\n",
    "    # since we're not training, we don't need to calculate the gradients for our outputs\n",
    "    with torch.no_grad():\n",
    "        for batch in testloader:\n",
    "            images = batch[0].to(device)\n",
    "            meta = batch[1]\n",
    "            labels = torch.tensor([float(x) for x in meta[\"Pneumonia\"]]).to(device) + 1\n",
    "            # calculate outputs by running images through the network \n",
    "            outputs, _ = model(images)\n",
    "            # the class with the highest energy is what we choose as prediction\n",
    "            _, predicted = torch.max(outputs.data, 1)\n",
    "            y_trues.extend(labels.cpu().detach().numpy().tolist())\n",
    "            y_preds.extend(predicted.cpu().detach().numpy().tolist())\n",
    "\n",
    "    if verbose:\n",
    "        print(f\"Accuracy: {metrics.accuracy_score(y_trues, y_preds):.3f}\")\n",
    "        print(f\"F1 Score: {metrics.f1_score(y_trues, y_preds, average='macro'):.3f}\")\n",
    "        print()\n",
    "    return metrics.accuracy_score(y_trues, y_preds)"
   ]
  },
  {
   "cell_type": "code",
   "execution_count": 110,
   "metadata": {},
   "outputs": [],
   "source": [
    "shard_root_path = \"/l/Work/aalto/chest-xray-ssl/input/chexpert-shards/\"\n",
    "n_shards = len([p for p in os.listdir(shard_root_path) if 'train' in p])\n",
    "train_start = str(0).zfill(6)\n",
    "train_end = str(n_shards-2).zfill(6)\n",
    "dev_start = str(n_shards-1).zfill(6)\n",
    "\n",
    "train_shards = os.path.join(\n",
    "    shard_root_path, f\"chexpert-train-{{{train_start}..{train_end}}}.tar\")\n",
    "dev_shard = os.path.join(\n",
    "    shard_root_path, f\"chexpert-train-{dev_start}.tar\")\n"
   ]
  },
  {
   "cell_type": "code",
   "execution_count": 112,
   "metadata": {},
   "outputs": [],
   "source": [
    "# train_url = \"/l/Work/aalto/chest-xray-ssl/input/chexpert-shards/chexpert-train-{000000..000021}.tar\"\n",
    "# val_url = \"/l/Work/aalto/chest-xray-ssl/input/chexpert-shards/chexpert-train-000022.tar\"\n",
    "\n",
    "def image_loader(path):\n",
    "    with open(path, 'rb') as f:\n",
    "        img = Image.open(f)\n",
    "        return img.convert('RGB')\n",
    "\n",
    "\n",
    "preproc = transforms.Compose([\n",
    "  transforms.RandomResizedCrop(128),\n",
    "  transforms.RandomHorizontalFlip(),\n",
    "  transforms.ToTensor(),\n",
    "])\n",
    "\n",
    "\n",
    "train_dataset = wds.WebDataset(train_shards)\\\n",
    "    .shuffle(1000)\\\n",
    "    .decode(\"pil\")\\\n",
    "    .rename(image=\"jpg;png\", meta=\"json\")\\\n",
    "    .map_dict(image=preproc)\\\n",
    "    .to_tuple(\"image\", \"meta\")\n",
    "\n",
    "val_dataset = wds.WebDataset(dev_shard)\\\n",
    "    .shuffle(1000)\\\n",
    "    .decode(\"pil\")\\\n",
    "    .rename(image=\"jpg;png\", meta=\"json\")\\\n",
    "    .map_dict(image=preproc)\\\n",
    "    .to_tuple(\"image\", \"meta\")\n",
    "    \n",
    "train_dataloader = torch.utils.data.DataLoader(\n",
    "  train_dataset, \n",
    "  num_workers=2, \n",
    "  batch_size=16\n",
    ")\n",
    "\n",
    "val_dataloader = torch.utils.data.DataLoader(\n",
    "  val_dataset, \n",
    "  num_workers=2, \n",
    "  batch_size=16\n",
    ")"
   ]
  },
  {
   "cell_type": "code",
   "execution_count": null,
   "metadata": {},
   "outputs": [],
   "source": []
  },
  {
   "cell_type": "code",
   "execution_count": 101,
   "metadata": {},
   "outputs": [
    {
     "name": "stdout",
     "output_type": "stream",
     "text": [
      "{'Sex': ['Male', 'Female', 'Female', 'Male', 'Female', 'Male', 'Female', 'Female', 'Male', 'Male', 'Female', 'Male', 'Male', 'Male', 'Male', 'Male'], 'Age': ['68', '56', '32', '73', '58', '45', '68', '74', '90', '55', '51', '73', '34', '79', '38', '18'], 'Frontal/Lateral': ['Frontal', 'Frontal', 'Frontal', 'Frontal', 'Frontal', 'Frontal', 'Frontal', 'Frontal', 'Frontal', 'Frontal', 'Frontal', 'Frontal', 'Lateral', 'Lateral', 'Frontal', 'Frontal'], 'AP/PA': ['AP', 'AP', 'AP', 'AP', 'AP', 'AP', 'AP', 'AP', 'AP', 'AP', 'AP', 'AP', 'nan', 'nan', 'AP', 'AP'], 'No Finding': ['0.0', '0.0', '0.0', '0.0', '1.0', '0.0', '0.0', '0.0', '0.0', '0.0', '1.0', '0.0', '0.0', '0.0', '0.0', '0.0'], 'Enlarged Cardiomediastinum': ['0.0', '0.0', '0.0', '0.0', '0.0', '0.0', '0.0', '0.0', '1.0', '0.0', '0.0', '1.0', '0.0', '0.0', '1.0', '0.0'], 'Cardiomegaly': ['0.0', '0.0', '0.0', '0.0', '0.0', '1.0', '0.0', '0.0', '0.0', '0.0', '0.0', '0.0', '0.0', '0.0', '0.0', '1.0'], 'Lung Opacity': ['1.0', '1.0', '0.0', '1.0', '0.0', '1.0', '1.0', '1.0', '1.0', '1.0', '0.0', '0.0', '0.0', '1.0', '0.0', '0.0'], 'Lung Lesion': ['0.0', '0.0', '0.0', '0.0', '0.0', '0.0', '0.0', '0.0', '0.0', '1.0', '0.0', '0.0', '0.0', '0.0', '0.0', '0.0'], 'Edema': ['1.0', '0.0', '1.0', '0.0', '0.0', '0.0', '1.0', '0.0', '0.0', '-1.0', '0.0', '1.0', '0.0', '0.0', '0.0', '0.0'], 'Consolidation': ['0.0', '0.0', '0.0', '0.0', '0.0', '-1.0', '0.0', '0.0', '-1.0', '0.0', '0.0', '0.0', '0.0', '0.0', '0.0', '0.0'], 'Pneumonia': ['0.0', '-1.0', '0.0', '0.0', '0.0', '0.0', '0.0', '0.0', '0.0', '0.0', '0.0', '0.0', '-1.0', '0.0', '0.0', '0.0'], 'Atelectasis': ['0.0', '0.0', '0.0', '0.0', '0.0', '1.0', '0.0', '1.0', '-1.0', '0.0', '0.0', '0.0', '0.0', '1.0', '0.0', '0.0'], 'Pneumothorax': ['0.0', '0.0', '0.0', '0.0', '0.0', '0.0', '0.0', '0.0', '0.0', '0.0', '0.0', '0.0', '0.0', '0.0', '0.0', '0.0'], 'Pleural Effusion': ['0.0', '1.0', '1.0', '0.0', '0.0', '0.0', '1.0', '1.0', '0.0', '1.0', '0.0', '0.0', '0.0', '0.0', '0.0', '0.0'], 'Pleural Other': ['0.0', '0.0', '0.0', '0.0', '0.0', '0.0', '0.0', '0.0', '0.0', '0.0', '0.0', '0.0', '0.0', '0.0', '0.0', '0.0'], 'Fracture': ['0.0', '0.0', '0.0', '1.0', '0.0', '0.0', '0.0', '0.0', '0.0', '0.0', '0.0', '0.0', '0.0', '0.0', '1.0', '-1.0'], 'Support Devices': ['1.0', '0.0', '1.0', '1.0', '1.0', '0.0', '0.0', '1.0', '0.0', '0.0', '0.0', '1.0', '0.0', '0.0', '0.0', '0.0'], 'patient_id': ['patient02009_study12', 'patient02076_study9', 'patient41891_study6', 'patient35832_study13', 'patient25537_study5', 'patient12116_study1', 'patient30620_study3', 'patient35031_study8', 'patient51397_study2', 'patient10413_study6', 'patient16082_study2', 'patient41886_study1', 'patient33443_study1', 'patient33345_study4', 'patient17649_study1', 'patient14021_study1']}\n"
     ]
    },
    {
     "data": {
      "text/plain": [
       "<matplotlib.image.AxesImage at 0x7f0df33e70a0>"
      ]
     },
     "execution_count": 101,
     "metadata": {},
     "output_type": "execute_result"
    },
    {
     "data": {
      "image/png": "[encoded data removed]",
      "text/plain": [
       "<Figure size 432x288 with 1 Axes>"
      ]
     },
     "metadata": {
      "needs_background": "light"
     },
     "output_type": "display_data"
    }
   ],
   "source": [
    "batch = next(iter(train_dataloader))\n",
    "print(batch[1])\n",
    "plt.imshow(np.transpose(batch[0][0].numpy(), (1, 2, 0)))"
   ]
  },
  {
   "cell_type": "code",
   "execution_count": 102,
   "metadata": {},
   "outputs": [],
   "source": [
    "class Resnet34(nn.Module):\n",
    "    def __init__(self, num_classes):\n",
    "        super().__init__()\n",
    "        self.encoder = models.resnet34(pretrained=True)\n",
    "        self.encoder.fc = nn.Linear(512, num_classes)\n",
    "\n",
    "    def forward(self, x):\n",
    "        intermediate_outputs = []\n",
    "        inter_x = self.encoder.maxpool(self.encoder.relu(\n",
    "            self.encoder.bn1(self.encoder.conv1(x))\n",
    "        ))\n",
    "        intermediate_outputs.append(inter_x)\n",
    "\n",
    "        for layer in [\n",
    "                      self.encoder.layer1,\n",
    "                      self.encoder.layer2,\n",
    "                      self.encoder.layer3,\n",
    "                      self.encoder.layer4\n",
    "                      ]:\n",
    "            for res_block in layer:\n",
    "                inter_x = res_block(inter_x)\n",
    "                intermediate_outputs.append(inter_x)\n",
    "            \n",
    "            x = self.encoder(x)\n",
    "            return x, intermediate_outputs"
   ]
  },
  {
   "cell_type": "code",
   "execution_count": 103,
   "metadata": {},
   "outputs": [],
   "source": [
    "def train_domainnet(\n",
    "    train_size,\n",
    "    img_size, \n",
    "    optimizer, \n",
    "    model, \n",
    "    save_model_name, \n",
    "    batch_size=64,\n",
    "    verbose=False\n",
    "):\n",
    "    model = model.to(device)\n",
    "    domainnet_optimizer = optimizer\n",
    "    domainnet_trainloader, domainnet_validloader, domainnet_testloader = train_dataloader, val_dataloader, val_dataloader\n",
    "    domainnet_trained_resnet = train(\n",
    "        model, \n",
    "        trainloader=domainnet_trainloader, \n",
    "        validloader=domainnet_validloader, \n",
    "        optimizer = domainnet_optimizer,\n",
    "        n_epochs=1000, \n",
    "        n_iters=1000,\n",
    "        model_name=save_model_name,\n",
    "        verbose=verbose\n",
    "    )\n",
    "\n",
    "    # test acc\n",
    "    domainnet_trained_resnet = model.to(device)\n",
    "    domainnet_trained_resnet.load_state_dict(torch.load(f'./{save_model_name}_ep_last.pth'))\n",
    "    test_acc = eval_acc(domainnet_testloader, domainnet_trained_resnet, verbose=True)\n",
    "\n",
    "    return test_acc"
   ]
  },
  {
   "cell_type": "code",
   "execution_count": 104,
   "metadata": {},
   "outputs": [
    {
     "name": "stdout",
     "output_type": "stream",
     "text": [
      "Epoch #: 0\n",
      "[1,   500] loss: 0.464\n",
      "Accuracy: 0.884\n",
      "F1 Score: 0.313\n",
      "\n",
      "Accuracy: 0.884\n",
      "F1 Score: 0.313\n",
      "\n"
     ]
    },
    {
     "data": {
      "text/plain": [
       "0.8842999414176919"
      ]
     },
     "execution_count": 104,
     "metadata": {},
     "output_type": "execute_result"
    }
   ],
   "source": [
    "resnet34 = Resnet34(num_classes=3)\n",
    "uniform_optimizer = optim.AdamW(\n",
    "            resnet34.parameters(), \n",
    "            lr=1e-3, \n",
    "            betas=(0.9, 0.999), \n",
    "            weight_decay=0.0\n",
    ")\n",
    "# uniform_optimizer = resnet18.configure_uniform_optimizer(lr=1e-3, weight_decay=0.0)\n",
    "N = 10000\n",
    "train_domainnet(\n",
    "    train_size=N,\n",
    "    img_size=64, \n",
    "    optimizer=uniform_optimizer, \n",
    "    model=resnet34, \n",
    "    save_model_name=f\"resnet34_N{N}\", \n",
    "    batch_size=64,\n",
    "    verbose=True\n",
    ")"
   ]
  },
  {
   "cell_type": "code",
   "execution_count": null,
   "metadata": {},
   "outputs": [],
   "source": []
  }
 ],
 "metadata": {
  "interpreter": {
   "hash": "f6430dd87a6a37922a5c1a112f553a6c98af2315f1b0c245e1337460a4067c78"
  },
  "kernelspec": {
   "display_name": "Python 3.8.5 64-bit ('base': conda)",
   "language": "python",
   "name": "python3"
  },
  "language_info": {
   "codemirror_mode": {
    "name": "ipython",
    "version": 3
   },
   "file_extension": ".py",
   "mimetype": "text/x-python",
   "name": "python",
   "nbconvert_exporter": "python",
   "pygments_lexer": "ipython3",
   "version": "3.8.5"
  },
  "orig_nbformat": 4
 },
 "nbformat": 4,
 "nbformat_minor": 2
}
