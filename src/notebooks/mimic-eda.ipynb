{
 "cells": [
  {
   "cell_type": "code",
   "execution_count": null,
   "metadata": {},
   "outputs": [
    {
     "ename": "",
     "evalue": "",
     "output_type": "error",
     "traceback": [
      "\u001b[1;31mJupyter cannot be started. Error attempting to locate jupyter: Running cells with 'Python 3.6.8 64-bit' requires jupyter and notebook package.\n",
      "Run the following command to install 'jupyter and notebook' into the Python environment. \n",
      "Command: '/usr/bin/python3 -m pip install jupyter notebook -U'"
     ]
    }
   ],
   "source": [
    "import os \n",
    "\n",
    "import pandas as pd\n",
    "import numpy as np\n",
    "import webdataset as wds\n",
    "import random"
   ]
  },
  {
   "cell_type": "code",
   "execution_count": 2,
   "metadata": {},
   "outputs": [],
   "source": [
    "def seed_everything(seed):\n",
    "    random.seed(seed)\n",
    "    os.environ[\"PYTHONHASHSEED\"] = str(seed)\n",
    "    np.random.seed(seed)\n",
    "\n",
    "seed_everything(42)"
   ]
  },
  {
   "cell_type": "code",
   "execution_count": 3,
   "metadata": {},
   "outputs": [],
   "source": [
    "path = \"/scratch/cs/chest-xray-ssl/MIMIC/files/mimic-cxr-jpg/2.0.0\"\n",
    "\n",
    "chexeprt_df = pd.read_csv(os.path.join(path, 'mimic-cxr-2.0.0-chexpert.csv'))\n",
    "split_df = pd.read_csv(os.path.join(path, 'mimic-cxr-2.0.0-split.csv'))"
   ]
  },
  {
   "cell_type": "code",
   "execution_count": null,
   "metadata": {},
   "outputs": [],
   "source": [
    "df_main = chexeprt_df.merge(split_df, on=\"study_id\")"
   ]
  },
  {
   "cell_type": "markdown",
   "metadata": {},
   "source": [
    "Path column creation"
   ]
  },
  {
   "cell_type": "code",
   "execution_count": null,
   "metadata": {},
   "outputs": [],
   "source": [
    "df_main[\"folder\"] = \"p\"+ df_main[\"subject_id_x\"].apply(lambda row: str(row)[:2])\n",
    "df_main[\"subject_id_x\"] = \"p\"+ df_main[\"subject_id_x\"].apply(lambda row: str(row))\n",
    "df_main[\"study_id\"] = \"s\"+ df_main[\"study_id\"].apply(lambda row: str(row))\n",
    "df_main[\"dicom_id\"] = df_main[\"dicom_id\"].apply(lambda row: str(row))+\".jpg\""
   ]
  },
  {
   "cell_type": "code",
   "execution_count": null,
   "metadata": {},
   "outputs": [],
   "source": [
    "df_main[\"path\"] = df_main[[\"folder\", \"subject_id_x\", \"study_id\", \"dicom_id\"]].apply(lambda x: '/'.join(x.astype(str)), axis=1)"
   ]
  },
  {
   "cell_type": "code",
   "execution_count": null,
   "metadata": {},
   "outputs": [],
   "source": [
    "#handle nan\n",
    "df_main[\"No Finding\"].fillna(0, inplace=True)\n",
    "df_main[\"Enlarged Cardiomediastinum\"].fillna(0, inplace=True)\n",
    "df_main[\"Cardiomegaly\"].fillna(0, inplace=True)\n",
    "df_main[\"Lung Opacity\"].fillna(0, inplace=True)\n",
    "df_main[\"Lung Lesion\"].fillna(0, inplace=True)\n",
    "df_main[\"Edema\"].fillna(0, inplace=True)\n",
    "df_main[\"Consolidation\"].fillna(0, inplace=True)\n",
    "df_main[\"Pneumonia\"].fillna(0, inplace=True)\n",
    "df_main[\"Atelectasis\"].fillna(0, inplace=True)\n",
    "df_main[\"Pneumothorax\"].fillna(0, inplace=True)\n",
    "df_main[\"Pleural Effusion\"].fillna(0, inplace=True)\n",
    "df_main[\"Pleural Other\"].fillna(0, inplace=True)\n",
    "df_main[\"Fracture\"].fillna(0, inplace=True)\n",
    "df_main[\"Support Devices\"].fillna(0, inplace=True)"
   ]
  },
  {
   "cell_type": "code",
   "execution_count": null,
   "metadata": {},
   "outputs": [],
   "source": [
    "train_df = df_main[df_main[\"split\"]==\"train\"]\n",
    "val_df = df_main[df_main[\"split\"]==\"val\"].reset_index(drop=True)\n",
    "test_df = df_main[df_main[\"split\"]==\"test\"].reset_index(drop=True)"
   ]
  },
  {
   "cell_type": "code",
   "execution_count": 4,
   "metadata": {},
   "outputs": [],
   "source": [
    "train_df = train_df.sample(frac=1.0, random_state=42).reset_index(drop=True)"
   ]
  },
  {
   "cell_type": "code",
   "execution_count": 6,
   "metadata": {},
   "outputs": [
    {
     "data": {
      "text/plain": [
       "Index(['Path', 'Sex', 'Age', 'Frontal/Lateral', 'AP/PA', 'No Finding',\n",
       "       'Enlarged Cardiomediastinum', 'Cardiomegaly', 'Lung Opacity',\n",
       "       'Lung Lesion', 'Edema', 'Consolidation', 'Pneumonia', 'Atelectasis',\n",
       "       'Pneumothorax', 'Pleural Effusion', 'Pleural Other', 'Fracture',\n",
       "       'Support Devices'],\n",
       "      dtype='object')"
      ]
     },
     "execution_count": 6,
     "metadata": {},
     "output_type": "execute_result"
    }
   ],
   "source": [
    "train_df.columns"
   ]
  },
  {
   "cell_type": "code",
   "execution_count": null,
   "metadata": {},
   "outputs": [],
   "source": []
  }
 ],
 "metadata": {
  "interpreter": {
   "hash": "f6430dd87a6a37922a5c1a112f553a6c98af2315f1b0c245e1337460a4067c78"
  },
  "kernelspec": {
   "display_name": "Python 3.8.5 64-bit ('base': conda)",
   "language": "python",
   "name": "python3"
  },
  "language_info": {
   "codemirror_mode": {
    "name": "ipython",
    "version": 3
   },
   "file_extension": ".py",
   "mimetype": "text/x-python",
   "name": "python",
   "nbconvert_exporter": "python",
   "pygments_lexer": "ipython3",
   "version": "3.6.8"
  },
  "orig_nbformat": 4
 },
 "nbformat": 4,
 "nbformat_minor": 2
}
